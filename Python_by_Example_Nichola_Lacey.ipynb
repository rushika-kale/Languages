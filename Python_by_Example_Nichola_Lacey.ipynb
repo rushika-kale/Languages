{
  "nbformat": 4,
  "nbformat_minor": 0,
  "metadata": {
    "colab": {
      "provenance": [],
      "toc_visible": true,
      "authorship_tag": "ABX9TyNjN9vF7d5ieyZ2uWjrUOyd",
      "include_colab_link": true
    },
    "kernelspec": {
      "name": "python3",
      "display_name": "Python 3"
    },
    "language_info": {
      "name": "python"
    }
  },
  "cells": [
    {
      "cell_type": "markdown",
      "metadata": {
        "id": "view-in-github",
        "colab_type": "text"
      },
      "source": [
        "<a href=\"https://colab.research.google.com/github/rushika-kale/Languages/blob/main/Python_by_Example_Nichola_Lacey.ipynb\" target=\"_parent\"><img src=\"https://colab.research.google.com/assets/colab-badge.svg\" alt=\"Open In Colab\"/></a>"
      ]
    },
    {
      "cell_type": "markdown",
      "source": [
        "# The Basics"
      ],
      "metadata": {
        "id": "OxFENzi4RptS"
      }
    },
    {
      "cell_type": "code",
      "execution_count": null,
      "metadata": {
        "colab": {
          "base_uri": "https://localhost:8080/"
        },
        "id": "tIGBG3IpMWkL",
        "outputId": "a8bc6488-449f-48e4-a344-0ee80f16dd4a"
      },
      "outputs": [
        {
          "output_type": "stream",
          "name": "stdout",
          "text": [
            "Your First Name: Rushika\n",
            "Hello  Rushika\n"
          ]
        }
      ],
      "source": [
        "#001 Ask for the user’s first name and display the output message Hello [First Name] .\n",
        "\n",
        "FirstName = input(\"Your First Name: \")\n",
        "print(\"Hello\", FirstName)"
      ]
    },
    {
      "cell_type": "code",
      "source": [
        "#002 Ask for the user’s first name and then ask for their surname and display the output message \n",
        "#Hello [First Name] [Surname].\n",
        "\n",
        "FirstName = input(\"Your First Name: \")\n",
        "LastName = input(\"Your Last Name: \")\n",
        "print(\"Hello\", FirstName, LastName)"
      ],
      "metadata": {
        "colab": {
          "base_uri": "https://localhost:8080/"
        },
        "id": "HWCkBlgFPNX4",
        "outputId": "73f0cb0a-5357-48c8-e81d-dcc0400ef837"
      },
      "execution_count": null,
      "outputs": [
        {
          "output_type": "stream",
          "name": "stdout",
          "text": [
            "Your First Name: Rushika\n",
            "Your Last Name: Kale\n",
            "Hello  Rushika Kale\n"
          ]
        }
      ]
    },
    {
      "cell_type": "code",
      "source": [
        "#003 Write code that will display the joke “What do you call a bear with no teeth?” \n",
        "#and on the next line display the answer “A gummy bear!” \n",
        "#Try to create it using only one line of code.\n",
        "\n",
        "print(\"What do you call a bear with no teeth?\\nA gummy bear!\")"
      ],
      "metadata": {
        "colab": {
          "base_uri": "https://localhost:8080/"
        },
        "id": "Qr_J4pb8Pulw",
        "outputId": "c57aba8d-bebd-42e5-c705-087b4a5e9314"
      },
      "execution_count": null,
      "outputs": [
        {
          "output_type": "stream",
          "name": "stdout",
          "text": [
            "What do you call a bear with no teeth?\n",
            "A gummy bear!\n"
          ]
        }
      ]
    },
    {
      "cell_type": "code",
      "source": [
        "#004 Ask the user to enter two numbers. Add them together and \n",
        "#display the answer as The total is [answer].\n",
        "\n",
        "print(\"Enter the two numbers\")\n",
        "n1 = int(input(\"First Number: \"))\n",
        "n2 = int(input(\"Second Number: \"))\n",
        "print(\"The total is\", n1+n2)"
      ],
      "metadata": {
        "colab": {
          "base_uri": "https://localhost:8080/"
        },
        "id": "E8fAAm7tP_LR",
        "outputId": "1a8dee89-7ca5-4200-e99f-fa139d17d025"
      },
      "execution_count": null,
      "outputs": [
        {
          "output_type": "stream",
          "name": "stdout",
          "text": [
            "Enter the two numbers\n",
            "First Number: 5\n",
            "Second Number: 9\n",
            "The total is  14\n"
          ]
        }
      ]
    },
    {
      "cell_type": "code",
      "source": [
        "#005 Ask the user to enter three numbers. Add together the first two numbers \n",
        "#and then multiply this total by the third. \n",
        "#Display the answer as The answer is [answer].\n",
        "\n",
        "print(\"Enter the three numbers\")\n",
        "n1 = int(input(\"First Number: \"))\n",
        "n2 = int(input(\"Second Number: \"))\n",
        "n3 = int(input(\"Third Number: \"))\n",
        "print(\"The answer is\", (n1+n2)*n3)"
      ],
      "metadata": {
        "colab": {
          "base_uri": "https://localhost:8080/"
        },
        "id": "gIO7WvWtQcnH",
        "outputId": "fd6014e3-5e64-4a90-e008-2514a2149b8b"
      },
      "execution_count": null,
      "outputs": [
        {
          "output_type": "stream",
          "name": "stdout",
          "text": [
            "Enter the three numbers\n",
            "First Number: 2\n",
            "Second Number: 1\n",
            "Third Number: 3\n",
            "The answer is  9\n"
          ]
        }
      ]
    },
    {
      "cell_type": "code",
      "source": [
        "#006 Ask how many slices of pizza the user started with and ask how many slices they have eaten.\n",
        "#Work out how many slices they have left and display the answer in a userfriendly format.\n",
        "\n",
        "print(\"Please answer rhe following questions\")\n",
        "n1 = int(input(\"How many slices of pizza you started with: \"))\n",
        "n2 = int(input(\"How many slices you have eaten: \"))\n",
        "print(\"Wonderful! You still have\", n1-n2, \"slices left for you! :)\")"
      ],
      "metadata": {
        "colab": {
          "base_uri": "https://localhost:8080/"
        },
        "id": "mHNbPWXKQjQE",
        "outputId": "9bea3241-c177-4dbb-f21e-cead59751d5f"
      },
      "execution_count": null,
      "outputs": [
        {
          "output_type": "stream",
          "name": "stdout",
          "text": [
            "Please answer rhe following questions\n",
            "How many slices of pizza you started with: 6\n",
            "How many slices you have eaten: 4\n",
            "Wonderful! You still have 2 slices left for you! :)\n"
          ]
        }
      ]
    },
    {
      "cell_type": "code",
      "source": [
        "#007 Ask the user for their name and their age. Add 1 to their age and \n",
        "#display the output [Name] next birthday you will be [new age].\n",
        "\n",
        "name = input(\"Enter your name: \")\n",
        "age = int(input(\"Enter your age: \"))\n",
        "print(name, \"next birthday you will be\", age+1)"
      ],
      "metadata": {
        "colab": {
          "base_uri": "https://localhost:8080/"
        },
        "id": "o4YfprAzQq_l",
        "outputId": "82b1a860-dc95-4ef5-f141-62af4383c09a"
      },
      "execution_count": null,
      "outputs": [
        {
          "output_type": "stream",
          "name": "stdout",
          "text": [
            "Enter your name: Rushika\n",
            "Enter your age: 26\n",
            "Rushika next birthday you will be  27\n"
          ]
        }
      ]
    },
    {
      "cell_type": "code",
      "source": [
        "#008 Ask for the total price of the bill, then ask how many diners there are. \n",
        "#Divide the total bill by the number of diners and show how much each person must pay.\n",
        "\n",
        "price = int(input(\"Total price of the bill: \"))\n",
        "diners = int(input(\"How many diners thre are: \"))\n",
        "print(\"So we need to pay\", price, \"Rs for\", diners, \"people. So each person contributes to\", round(price/diners, 2), \"Rs\")"
      ],
      "metadata": {
        "colab": {
          "base_uri": "https://localhost:8080/"
        },
        "id": "u78dcsniQu_3",
        "outputId": "23874592-d75c-493a-cee0-0a67bdc1d330"
      },
      "execution_count": null,
      "outputs": [
        {
          "output_type": "stream",
          "name": "stdout",
          "text": [
            "Total price of the bill: 745\n",
            "How many diners thre are: 25\n",
            "So we need to pay 745 Rs for 25 people. So each person contributes to 29.8 Rs\n"
          ]
        }
      ]
    },
    {
      "cell_type": "code",
      "source": [
        "#009 Write a program that will ask for a number of days and \n",
        "#then will show how many hours, minutes and seconds are in that number of days.\n",
        "\n",
        "days = int(input(\"How many number of Days?: \"))\n",
        "print(\"For\", days, \"numbers of days, you will get\", days*24 ,\"hrs\", days*24*60, \"mins\", days*24*60*60 , \"Secs\")"
      ],
      "metadata": {
        "colab": {
          "base_uri": "https://localhost:8080/"
        },
        "id": "5ewYtq_OQ0K5",
        "outputId": "6b4bd5cb-f850-438b-d1f6-0e72330de7a7"
      },
      "execution_count": null,
      "outputs": [
        {
          "output_type": "stream",
          "name": "stdout",
          "text": [
            "How many number of Days?: 15\n",
            "For 15 numbers of days, you will get 360 hrs 21600 mins 1296000 Secs\n"
          ]
        }
      ]
    },
    {
      "cell_type": "code",
      "source": [
        "#010 There are 2.204 pounds in a kilogram. Ask the user to enter a weight in kilograms and \n",
        "#convert it to pounds\n",
        "\n",
        "wt = int(input(\"Enter your Weight(Kgs): \"))\n",
        "pds = 2.204\n",
        "print(\"Your Weight after converting to pounds is\", round(pds*wt, 2))"
      ],
      "metadata": {
        "colab": {
          "base_uri": "https://localhost:8080/"
        },
        "id": "71DX3ePvSnjU",
        "outputId": "ec63ad84-925c-41e0-fba9-178cd7c78cf3"
      },
      "execution_count": null,
      "outputs": [
        {
          "output_type": "stream",
          "name": "stdout",
          "text": [
            "Enter your Weight(Kgs): 72\n",
            "Your Weight after converting to pounds is 158.69\n"
          ]
        }
      ]
    },
    {
      "cell_type": "code",
      "source": [
        "#011 Task the user to enter a number over 100 and then enter a number under 10 and \n",
        "#tell them how many times the smaller number goes into the larger\n",
        "#number in a user-friendly format. \n",
        "\n",
        "n1 = int(input(\"Enter the number over 100: \"))\n",
        "n2 = int(input(\"Enter the number under 10: \"))\n",
        "print(\"You can get\", n1//n2, \"times of\", n2, \"in\", n1)"
      ],
      "metadata": {
        "colab": {
          "base_uri": "https://localhost:8080/"
        },
        "id": "AQSP94aSRKZD",
        "outputId": "3c45e151-18b3-4143-fdb8-463ea3c38185"
      },
      "execution_count": null,
      "outputs": [
        {
          "output_type": "stream",
          "name": "stdout",
          "text": [
            "Enter the number over 100: 742\n",
            "Enter the number under 10: 8\n",
            "You can get 92 times of 8 in 742\n"
          ]
        }
      ]
    },
    {
      "cell_type": "markdown",
      "source": [
        "# IF Statements"
      ],
      "metadata": {
        "id": "ZaAYeboeXGMb"
      }
    },
    {
      "cell_type": "code",
      "source": [
        "#012 Ask for two numbers. If the first one is larger than the second, \n",
        "#display the second number first and then the first number, \n",
        "#otherwise show the first number first and then the second.\n",
        "\n",
        "print(\"Please enter the two numbers\")\n",
        "n1 = int(input(\"First number: \"))\n",
        "n2 = int(input(\"Second number: \"))\n",
        "if n1>n2:\n",
        "  print(n2, n1)\n",
        "else:\n",
        "  print(n1, n2)"
      ],
      "metadata": {
        "colab": {
          "base_uri": "https://localhost:8080/"
        },
        "id": "QyNhw5gPXRMA",
        "outputId": "a6b18ceb-94ce-48a3-c044-f27e5f355e24"
      },
      "execution_count": null,
      "outputs": [
        {
          "output_type": "stream",
          "name": "stdout",
          "text": [
            "Please enter the two numbers\n",
            "First number: 5\n",
            "Second number: 7\n",
            "5 7\n"
          ]
        }
      ]
    },
    {
      "cell_type": "code",
      "source": [
        "# 013 Ask the user to enter a number that is under 20. \n",
        "#If they enter a number that is 20 or more, \n",
        "#display the message “Too high”, otherwise display “Thank you”.\n",
        "\n",
        "n = int(input(\"Please enter the number under 20: \"))\n",
        "if n>=20:\n",
        "  print(\"Too high\")\n",
        "else:\n",
        "  print(\"Thank you\")"
      ],
      "metadata": {
        "colab": {
          "base_uri": "https://localhost:8080/"
        },
        "id": "jU4FaTMpknd6",
        "outputId": "ed19ae24-8b74-4562-ab9e-27d80bef3d58"
      },
      "execution_count": null,
      "outputs": [
        {
          "output_type": "stream",
          "name": "stdout",
          "text": [
            "Please enter the number under 20: 41\n",
            "Too high\n"
          ]
        }
      ]
    },
    {
      "cell_type": "code",
      "source": [
        "#014 Ask the user to enter a number between 10 and 20 (inclusive). \n",
        "#If they enter a number within this range, display the message “Thank you”, \n",
        "#otherwise display the message “Incorrect answer”.\n",
        "\n",
        "n = int(input(\"Please enter the number between 10 and 20: \"))\n",
        "if n>=10 and n<=20:\n",
        "  print(\"Thank you\")\n",
        "else:\n",
        "  print(\"Incorrect answer\")"
      ],
      "metadata": {
        "colab": {
          "base_uri": "https://localhost:8080/"
        },
        "id": "iZFWU9AdkxEc",
        "outputId": "6e18ea05-654c-4592-d36a-7b994ff7f297"
      },
      "execution_count": null,
      "outputs": [
        {
          "output_type": "stream",
          "name": "stdout",
          "text": [
            "Please enter the number between 10 and 20: 15\n",
            "Thank you\n"
          ]
        }
      ]
    },
    {
      "cell_type": "code",
      "source": [
        "#015 Ask the user to enter their favourite colour. \n",
        "#If they enter “red”, “RED” or “Red” display the message “I like red too”, \n",
        "#otherwise display the message “I don’t like [colour], I prefer red”.\n",
        "\n",
        "color = input(\"Enter your favorite color: \")\n",
        "if color == \"Red\" or color == \"RED\" or color == \"red\":\n",
        "  print(\"I like Red too\")\n",
        "else:\n",
        "  print(\"I don't like\", color, \"I prefer red\")"
      ],
      "metadata": {
        "colab": {
          "base_uri": "https://localhost:8080/"
        },
        "id": "JrHOpUTKk8P-",
        "outputId": "c7947cf9-9821-47e9-9948-0e72f452205c"
      },
      "execution_count": null,
      "outputs": [
        {
          "output_type": "stream",
          "name": "stdout",
          "text": [
            "Enter your favorite color: Yellow\n",
            "I don't like Yellow I prefer red\n"
          ]
        }
      ]
    },
    {
      "cell_type": "code",
      "source": [
        "#016 Ask the user if it is raining and convert their answer to lower case so it doesn’t matter \n",
        "#what case they type it in. If they answer “yes”, ask if it is windy. \n",
        "#If they answer “yes” to this second question,display the answer “It is too windy for an umbrella”, \n",
        "#otherwise display the message “Take an umbrella”. \n",
        "#If they did not answer yes to the first question, display the answer “Enjoy your day”.\n",
        "\n",
        "prompt1 = input(\"Is it raining?: \")\n",
        "prompt2 = input(\"Is it windy?: \")\n",
        "if prompt1 == \"Yes\":\n",
        "  print(str.lower(prompt1))\n",
        "  if prompt2 == \"Yes\":\n",
        "    print(\"It is too windy for an umbrella\")\n",
        "  else:\n",
        "    print(\"Take an Umbrella\")\n",
        "else:\n",
        "  print(\"Enjoy your Day\")"
      ],
      "metadata": {
        "colab": {
          "base_uri": "https://localhost:8080/"
        },
        "id": "9kxCC-g6lFmo",
        "outputId": "e7920820-5424-4fae-b868-8b475e2ce74d"
      },
      "execution_count": null,
      "outputs": [
        {
          "output_type": "stream",
          "name": "stdout",
          "text": [
            "Is it raining?: Yes\n",
            "Is it windy?: No\n",
            "yes\n",
            "Take an Umbrella\n"
          ]
        }
      ]
    },
    {
      "cell_type": "code",
      "source": [
        "#017 Ask the user’s age. If they are 18 or over, display the message “You can vote”, \n",
        "#if they are aged 17, display the message “You can learn to drive”, \n",
        "#if they are 16, display the message “You can buy a lottery ticket”, \n",
        "#if they are under 16, display the message “You can go Trickor-Treating”.\n",
        "\n",
        "n = int(input(\"What your age?: \"))\n",
        "if n>=18:\n",
        "  print(\"You can vote\")\n",
        "elif n==17:\n",
        "  print(\"You can learn to drive\")\n",
        "elif n==16:\n",
        "  print(\"You can buy a lottery ticket\")\n",
        "else:\n",
        "  print(\"You can go Trickor-Treating\")"
      ],
      "metadata": {
        "colab": {
          "base_uri": "https://localhost:8080/"
        },
        "id": "JTIUdKR0lSVw",
        "outputId": "4ded492a-2eab-43b2-c3d4-8044ff6a33b9"
      },
      "execution_count": null,
      "outputs": [
        {
          "output_type": "stream",
          "name": "stdout",
          "text": [
            "What your age?: 27\n",
            "You can vote\n"
          ]
        }
      ]
    },
    {
      "cell_type": "code",
      "source": [
        "#018 Ask the user to enter a number. \n",
        "#If it is under 10, display the message “Too low”, \n",
        "#if their number is between 10 and 20, display “Correct”, \n",
        "#otherwise display “Too high”.\n",
        "\n",
        "n = int(input(\"Enter a number: \"))\n",
        "if n<10:\n",
        "  print(\"Too low\")\n",
        "elif n>=10 and n<=20:\n",
        "  print(\"Correct\")\n",
        "else:\n",
        "  print(\"Too high\")"
      ],
      "metadata": {
        "colab": {
          "base_uri": "https://localhost:8080/"
        },
        "id": "kw81bCRPlgzV",
        "outputId": "c212c744-2a6b-4037-a808-fb897d319bec"
      },
      "execution_count": null,
      "outputs": [
        {
          "output_type": "stream",
          "name": "stdout",
          "text": [
            "Enter a number: 27\n",
            "Too high\n"
          ]
        }
      ]
    },
    {
      "cell_type": "code",
      "source": [
        "#019 Ask the user to enter 1, 2 or 3. \n",
        "#If they enter a 1, display the message “Thank you”, \n",
        "#if they enter a 2, display “Well done”, \n",
        "#if they enter a 3, display “Correct”. \n",
        "#If they enter anything else, display “Error message”.\n",
        "\n",
        "n = int(input(\"Please enter 1, 2 or 3: \"))\n",
        "if n==1:\n",
        "  print(\"Thank you\")\n",
        "elif n==2:\n",
        "  print(\"Well done\")\n",
        "elif n==3:\n",
        "  print(\"Correct\")\n",
        "else:\n",
        "  print(\"Error message\")"
      ],
      "metadata": {
        "colab": {
          "base_uri": "https://localhost:8080/"
        },
        "id": "08VsIywLlpcz",
        "outputId": "7775407e-6bfc-4f87-b3d8-5600cc576891"
      },
      "execution_count": null,
      "outputs": [
        {
          "output_type": "stream",
          "name": "stdout",
          "text": [
            "Please enter 1, 2 or 3: 5\n",
            "Error message\n"
          ]
        }
      ]
    },
    {
      "cell_type": "markdown",
      "source": [
        "# Strings"
      ],
      "metadata": {
        "id": "c_PzS-f2qDLO"
      }
    },
    {
      "cell_type": "code",
      "source": [],
      "metadata": {
        "id": "fTGwzPHKqIiE"
      },
      "execution_count": null,
      "outputs": []
    }
  ]
}